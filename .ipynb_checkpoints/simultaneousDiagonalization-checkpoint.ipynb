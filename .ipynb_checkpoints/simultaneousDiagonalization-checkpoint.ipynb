{
 "cells": [
  {
   "cell_type": "markdown",
   "metadata": {},
   "source": [
    "# Simultaneous Diagonalization"
   ]
  },
  {
   "cell_type": "markdown",
   "metadata": {},
   "source": [
    "In Quantum Mechanics, \n",
    "\"if they (observables) do commute there exist so many simultaneous eigenstates that they form a complete set\" \n",
    "(P. A. M. Dirac, *The Principles of Quantum Mechanics*).\n",
    "Thus we do need an algorithm to obtain the simultaneous eigenstates of two (or more) matrices, \n",
    "which is described in [*J. Chem. Phys.* **121**, 726 (2004)](https://doi.org/10.1063/1.1758941) and [*SIAM J. Matrix Anal. Appl.* **17**, 161-164, (1996)](https://doi.org/10.1137/S0895479893259546)."
   ]
  },
  {
   "cell_type": "markdown",
   "metadata": {},
   "source": [
    "## Definition of the question"
   ]
  },
  {
   "cell_type": "markdown",
   "metadata": {},
   "source": [
    "Consider a set of matrices $\\mathbb{A}\\equiv\\{A_k|k=1,K\\}$ of $K$ complex $N\\times N$ matrices.  "
   ]
  },
  {
   "cell_type": "code",
   "execution_count": 1,
   "metadata": {},
   "outputs": [
    {
     "data": {
      "text/plain": [
       "3-element Array{Array{Complex,2},1}:\n",
       " #undef\n",
       " #undef\n",
       " #undef"
      ]
     },
     "execution_count": 1,
     "metadata": {},
     "output_type": "execute_result"
    }
   ],
   "source": [
    "N=1000\n",
    "K=3  # may be changed later\n",
    "𝔸=Array{Matrix{Complex},1}(undef, K)"
   ]
  },
  {
   "cell_type": "markdown",
   "metadata": {},
   "source": [
    "When the matices in $\\mathbb{A}$ are **normal commuting matrices**, their off-diagnoal terms can be set to zero by a unitary transform, thus simultaneusly diagonalizing the set $\\mathbb{A}$."
   ]
  },
  {
   "cell_type": "markdown",
   "metadata": {},
   "source": [
    "Define \n",
    "$$\n",
    "\\mathrm{off}(A)\\equiv\\sum_{1\\le i \\ne j \\le N}|a_{ij}|^2,\n",
    "$$ where $a_{ij}$ denotes the $(i,j)$th entry of matrix $A$."
   ]
  },
  {
   "cell_type": "code",
   "execution_count": 2,
   "metadata": {},
   "outputs": [
    {
     "data": {
      "text/plain": [
       "off (generic function with 1 method)"
      ]
     },
     "execution_count": 2,
     "metadata": {},
     "output_type": "execute_result"
    }
   ],
   "source": [
    "function off(A)\n",
    "    res=0.0\n",
    "    for i in 1:size(A,1)\n",
    "        for j in 1:size(A,2)\n",
    "            if i ≠ j\n",
    "                res+=norm(A[i,j])^2\n",
    "            end\n",
    "        end\n",
    "    end\n",
    "end"
   ]
  },
  {
   "cell_type": "markdown",
   "metadata": {},
   "source": [
    "Simultaneous diagonalization may be obained by minimizing the composite objective \n",
    "$$\n",
    "\\mathrm{offsum}(UA_kU^H)\\equiv\\sum_{k=1}^{K}\\mathrm{off}(UA_kU^H)\n",
    "$$\n",
    "by a unitary matrix $U$."
   ]
  },
  {
   "cell_type": "code",
   "execution_count": 3,
   "metadata": {},
   "outputs": [
    {
     "data": {
      "text/plain": [
       "offsum (generic function with 1 method)"
      ]
     },
     "execution_count": 3,
     "metadata": {},
     "output_type": "execute_result"
    }
   ],
   "source": [
    "function offsum(𝔸)\n",
    "    res=0.0\n",
    "    for Aₖ in 𝔸\n",
    "        res+=off(Aₖ)\n",
    "    end\n",
    "end"
   ]
  },
  {
   "cell_type": "markdown",
   "metadata": {},
   "source": [
    "## Extended Jacobi technique"
   ]
  },
  {
   "cell_type": "code",
   "execution_count": 4,
   "metadata": {},
   "outputs": [],
   "source": [
    "using LinearAlgebra, SparseArrays"
   ]
  },
  {
   "cell_type": "markdown",
   "metadata": {},
   "source": [
    "The extended Jacobi technique for simultaneous diagonalization constructs $U$ as a product of plane rotations globally applied to all $A_k\\in\\mathbb{A}$."
   ]
  },
  {
   "cell_type": "markdown",
   "metadata": {},
   "source": [
    "It is desired, for each choice of $i\\neq j$, to find the $c$ and $s$ so that\n",
    "$$\n",
    "O(c,s)\\equiv\\sum_{k=1}^K\\mathrm{off}(R(i,j,c,s)A_kR^H(i,j,c,s))\n",
    "$$\n",
    "is minimized."
   ]
  },
  {
   "cell_type": "markdown",
   "metadata": {},
   "source": [
    "Let us define yet another $3\\times 3$ real symmetric matrix $G$ for $(i,j)$\n",
    "$$\n",
    "G\\equiv\\Re \\left(\\sum_kh^H(A_k)h(A_k)\\right),\n",
    "$$"
   ]
  },
  {
   "cell_type": "markdown",
   "metadata": {},
   "source": [
    "where\n",
    "$$\n",
    "h(A)\\equiv[a_{ii}-a_{jj},a_{ij}+a_{ji},\\mathbb{i}(a_{ji}-a_{ij})].\n",
    "$$\n",
    "In this document I use \"$\\mathbb{i}$\" to represent the imaginary number unit to distinguaish it from the index \"$i$\"."
   ]
  },
  {
   "cell_type": "code",
   "execution_count": 13,
   "metadata": {},
   "outputs": [
    {
     "data": {
      "text/plain": [
       "G (generic function with 1 method)"
      ]
     },
     "execution_count": 13,
     "metadata": {},
     "output_type": "execute_result"
    }
   ],
   "source": [
    "function G(i,j)\n",
    "    function h(A)\n",
    "        return [A[i,i]-A[j,j] A[i,j]+A[j,i] (A[j,i]-A[i,j])*im]\n",
    "    end\n",
    "    res=zeros(3,3)\n",
    "    for Aₖ in 𝔸\n",
    "        res+=(h(Aₖ))'⋅h(Aₖ)\n",
    "    end\n",
    "    real(res)\n",
    "end"
   ]
  },
  {
   "cell_type": "markdown",
   "metadata": {},
   "source": [
    "Denote $R(i,j,c,s)$ the complex rotation matrix equal to the identity matrix but for the following entries:\n",
    "$$\n",
    "    \\pmatrix{r_{ii} & r_{ij} \\\\ r_{ji} & r_{jj}}=\\pmatrix{c & \\bar{s} \\\\ -s & \\bar{c}} \\text{ with } c,s\\in\\mathbb{C}\\text{ and } |c|^2+|s|^2=1.\n",
    "$$"
   ]
  },
  {
   "cell_type": "markdown",
   "metadata": {},
   "source": [
    "Thus we have a theorem, whose proof is *not* given here:\n",
    "Under constraint $|c|^2+|s|^2=1$, $O(c,s)$ is minimized at\n",
    "$$\n",
    "c=\\sqrt{\\frac{x+r}{2r}}\\quad s=\\frac{y-\\mathbb{i}z}{\\sqrt{2r(x+r)}}\\quad r=\\sqrt{x^2+y^2+z^2},\n",
    "$$\n",
    "where $[x\\,y\\,z]^T$ is any eigenvector associated to the largest eigenvalue of $G$."
   ]
  },
  {
   "cell_type": "code",
   "execution_count": 6,
   "metadata": {},
   "outputs": [
    {
     "data": {
      "text/plain": [
       "R (generic function with 1 method)"
      ]
     },
     "execution_count": 6,
     "metadata": {},
     "output_type": "execute_result"
    }
   ],
   "source": [
    "function R(i,j)\n",
    "    res=sparse(I,N,N)\n",
    "    x,y,z=eigen(G(i,j)).vectors[:,end]\n",
    "    # r = 1 # eigenvector in Julia are normalized\n",
    "    c=sqrt((x+1)/2)\n",
    "    s=(y-z*im)/sqrt(2(x+1))\n",
    "    res[i,i]=c\n",
    "    res[i,j]=s'\n",
    "    res[j,i]=-s\n",
    "    res[j,j]=c'\n",
    "    res\n",
    "end"
   ]
  },
  {
   "cell_type": "markdown",
   "metadata": {},
   "source": [
    "Then we have the Jacobi-like iteration scheme."
   ]
  },
  {
   "cell_type": "code",
   "execution_count": 8,
   "metadata": {},
   "outputs": [
    {
     "data": {
      "text/plain": [
       "simultanueousDiagonalization (generic function with 1 method)"
      ]
     },
     "execution_count": 8,
     "metadata": {},
     "output_type": "execute_result"
    }
   ],
   "source": [
    "function simultanueousDiagonalization()\n",
    "eps=1.e-5\n",
    "U=Matrix(I,N,N)\n",
    "for iterator in 1:1000\n",
    "    if offsum(𝔸)>eps\n",
    "        for i in 1:N\n",
    "            for j in i:N\n",
    "                Rmat=R(i,j)\n",
    "                for Aₖ in 𝔸\n",
    "                    Aₖ=Rmat'*Aₖ*Rmat\n",
    "                end\n",
    "                U = U*Rmat\n",
    "            end\n",
    "        end\n",
    "    else\n",
    "        break\n",
    "    end\n",
    "end\n",
    "end"
   ]
  },
  {
   "cell_type": "markdown",
   "metadata": {},
   "source": [
    "## For real symmetric matrices"
   ]
  },
  {
   "cell_type": "markdown",
   "metadata": {},
   "source": [
    "For our problems, we acctually need a algorithm to simultaneously diagonalize real symmetric matrices.  The algorithm can be modified."
   ]
  },
  {
   "cell_type": "markdown",
   "metadata": {},
   "source": [
    "Consider a set of matrices $\\mathbb{A}\\equiv\\{A_k|k=1,K\\}$ of $K$ real symmetric $N\\times N$ matrices.  "
   ]
  },
  {
   "cell_type": "code",
   "execution_count": 9,
   "metadata": {},
   "outputs": [
    {
     "data": {
      "text/plain": [
       "3-element Array{Array{Real,2},1}:\n",
       " #undef\n",
       " #undef\n",
       " #undef"
      ]
     },
     "execution_count": 9,
     "metadata": {},
     "output_type": "execute_result"
    }
   ],
   "source": [
    "N=1000\n",
    "K=3  # may be changed later\n",
    "𝔸=Array{Matrix{Real},1}(undef, K)"
   ]
  },
  {
   "cell_type": "markdown",
   "metadata": {},
   "source": [
    "When the matices in $\\mathbb{A}$ are **normal commuting matrices**, their off-diagnoal terms can be set to zero by a unitary transform, thus simultaneusly diagonalizing the set $\\mathbb{A}$."
   ]
  },
  {
   "cell_type": "markdown",
   "metadata": {},
   "source": [
    "Define \n",
    "$$\n",
    "\\mathrm{off}(A)\\equiv\\sum_{1\\le i \\ne j \\le N}|a_{ij}|^2,\n",
    "$$ where $a_{ij}$ denotes the $(i,j)$th entry of matrix $A$."
   ]
  },
  {
   "cell_type": "code",
   "execution_count": 11,
   "metadata": {},
   "outputs": [
    {
     "data": {
      "text/plain": [
       "off (generic function with 2 methods)"
      ]
     },
     "execution_count": 11,
     "metadata": {},
     "output_type": "execute_result"
    }
   ],
   "source": [
    "function off(A::Matrix{Real})\n",
    "    res=0.0\n",
    "    for i in 1:size(A,1)\n",
    "        for j in i:size(A,2)\n",
    "            if i ≠ j\n",
    "                res+=A[i,j]^2\n",
    "            end\n",
    "        end\n",
    "    end\n",
    "end"
   ]
  },
  {
   "cell_type": "markdown",
   "metadata": {},
   "source": [
    "Simultaneous diagonalization may be obained by minimizing the composite objective \n",
    "$$\n",
    "\\mathrm{offsum}(UA_kU^H)\\equiv\\sum_{k=1}^{K}\\mathrm{off}(UA_kU^H)\n",
    "$$\n",
    "by a unitary matrix $U$."
   ]
  },
  {
   "cell_type": "code",
   "execution_count": 3,
   "metadata": {},
   "outputs": [
    {
     "data": {
      "text/plain": [
       "offsum (generic function with 1 method)"
      ]
     },
     "execution_count": 3,
     "metadata": {},
     "output_type": "execute_result"
    }
   ],
   "source": [
    "function offsum(𝔸)\n",
    "    res=0.0\n",
    "    for Aₖ in 𝔸\n",
    "        res+=off(Aₖ)\n",
    "    end\n",
    "end"
   ]
  },
  {
   "cell_type": "markdown",
   "metadata": {},
   "source": [
    "The extended Jacobi technique for simultaneous diagonalization constructs $U$ as a product of plane rotations globally applied to all $A_k\\in\\mathbb{A}$."
   ]
  },
  {
   "cell_type": "markdown",
   "metadata": {},
   "source": [
    "It is desired, for each choice of $i\\neq j$, to find the $c$ and $s$ so that\n",
    "$$\n",
    "O(c,s)\\equiv\\sum_{k=1}^K\\mathrm{off}(R(i,j,c,s)A_kR^H(i,j,c,s))\n",
    "$$\n",
    "is minimized."
   ]
  },
  {
   "cell_type": "markdown",
   "metadata": {},
   "source": [
    "Let us define yet another $2\\times 2$ real symmetric matrix $G$ for $(i,j)$\n",
    "$$\n",
    "G\\equiv\\Re \\left(\\sum_kh^H(A_k)h(A_k)\\right),\n",
    "$$"
   ]
  },
  {
   "cell_type": "markdown",
   "metadata": {},
   "source": [
    "where\n",
    "$$\n",
    "h(A)\\equiv[a_{ii}-a_{jj},a_{ij}+a_{ji}].\n",
    "$$\n"
   ]
  },
  {
   "cell_type": "code",
   "execution_count": 12,
   "metadata": {},
   "outputs": [
    {
     "data": {
      "text/plain": [
       "G (generic function with 1 method)"
      ]
     },
     "execution_count": 12,
     "metadata": {},
     "output_type": "execute_result"
    }
   ],
   "source": [
    "function G(i,j)\n",
    "    function h(A::Matrix{Real})\n",
    "        return [A[i,i]-A[j,j] A[i,j]+A[j,i]]\n",
    "    end\n",
    "    res=zeros(2,2)\n",
    "    for Aₖ in 𝔸\n",
    "        res+=transpose(h(Aₖ))⋅h(Aₖ)\n",
    "    end\n",
    "    res\n",
    "end"
   ]
  },
  {
   "cell_type": "markdown",
   "metadata": {},
   "source": [
    "Denote $R(i,j,c,s)$ the complex rotation matrix equal to the identity matrix but for the following entries:\n",
    "$$\n",
    "    \\pmatrix{r_{ii} & r_{ij} \\\\ r_{ji} & r_{jj}}=\\pmatrix{c & \\bar{s} \\\\ -s & \\bar{c}} \\text{ with } c,s\\in\\mathbb{C}\\text{ and } |c|^2+|s|^2=1.\n",
    "$$"
   ]
  },
  {
   "cell_type": "markdown",
   "metadata": {},
   "source": [
    "Thus we have a theorem, whose proof is *not* given here:\n",
    "Under constraint $|c|^2+|s|^2=1$, $O(c,s)$ is minimized at\n",
    "$$\n",
    "c=\\sqrt{\\frac{x+r}{2r}}\\quad s=\\frac{y}{\\sqrt{2r(x+r)}}\\quad r=\\sqrt{x^2+y^2},\n",
    "$$\n",
    "where $[x\\,y]^T$ is any eigenvector associated to the largest eigenvalue of $G$."
   ]
  },
  {
   "cell_type": "code",
   "execution_count": 16,
   "metadata": {},
   "outputs": [
    {
     "data": {
      "text/plain": [
       "R (generic function with 1 method)"
      ]
     },
     "execution_count": 16,
     "metadata": {},
     "output_type": "execute_result"
    }
   ],
   "source": [
    "function R(i,j)\n",
    "    res=sparse(I,N,N)\n",
    "    x,y=eigen(G(i,j)).vectors[:,end]\n",
    "    # r = 1 # eigenvector in Julia are normalized\n",
    "    c=sqrt((x+1)/2)\n",
    "    s=(y-z*im)/sqrt(2(x+1))\n",
    "    res[i,i]=c\n",
    "    res[i,j]=-s\n",
    "    res[j,i]=s\n",
    "    res[j,j]=c\n",
    "    res\n",
    "end"
   ]
  },
  {
   "cell_type": "markdown",
   "metadata": {},
   "source": [
    "Then we have the Jacobi-like iteration scheme."
   ]
  },
  {
   "cell_type": "code",
   "execution_count": 15,
   "metadata": {},
   "outputs": [
    {
     "data": {
      "text/plain": [
       "simultanueousDiagonalization (generic function with 1 method)"
      ]
     },
     "execution_count": 15,
     "metadata": {},
     "output_type": "execute_result"
    }
   ],
   "source": [
    "function simultanueousDiagonalization(𝔸::Array{Matrix{Real},1},N)\n",
    "    eps=1.e-5\n",
    "    U=Matrix(I,N,N)\n",
    "    for iterator in 1:1000\n",
    "        if offsum(𝔸)>eps\n",
    "            for i in 1:N\n",
    "                for j in i:N\n",
    "                    Rmat=R(i,j)\n",
    "                    for Aₖ in 𝔸\n",
    "                        Aₖ=Rmat'*Aₖ*Rmat\n",
    "                    end\n",
    "                    U = U*Rmat\n",
    "                end\n",
    "            end\n",
    "        else\n",
    "            break\n",
    "        end\n",
    "    end\n",
    "end"
   ]
  },
  {
   "cell_type": "code",
   "execution_count": null,
   "metadata": {},
   "outputs": [],
   "source": []
  }
 ],
 "metadata": {
  "kernelspec": {
   "display_name": "Julia 1.3.1",
   "language": "julia",
   "name": "julia-1.3"
  },
  "language_info": {
   "file_extension": ".jl",
   "mimetype": "application/julia",
   "name": "julia",
   "version": "1.3.1"
  }
 },
 "nbformat": 4,
 "nbformat_minor": 4
}
